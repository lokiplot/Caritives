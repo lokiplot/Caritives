{
 "cells": [
  {
   "cell_type": "markdown",
   "id": "4c075cbe",
   "metadata": {},
   "source": [
    "# Попытка все оформить"
   ]
  },
  {
   "cell_type": "markdown",
   "id": "a7414a72",
   "metadata": {},
   "source": [
    "## Функция условной вероятности"
   ]
  },
  {
   "cell_type": "code",
   "execution_count": 1,
   "id": "c045fe96",
   "metadata": {},
   "outputs": [],
   "source": [
    "import pandas as pd\n",
    "\n",
    "\n",
    "def compute_cond_prob(rand_var_name, cond_var_name, rand_var_value, cond_var_value, df):\n",
    "    \"\"\"\n",
    "    Computes the conditional probability\n",
    "            P(rand_var_name = rand_var_value | cond_var_name = cond_var_value)\n",
    "    \n",
    "    :param rand_var_name: first parameter name\n",
    "    :param cond_var_name: second parameter name\n",
    "    :param rand_var_value: 1 or 0\n",
    "    :param cond_var_value: 1 or 0\n",
    "    :param df: dataframe\n",
    "    \"\"\"\n",
    "    prob = pd.crosstab(df[rand_var_name], df[cond_var_name], normalize='columns')[cond_var_value][rand_var_value]\n",
    "    return prob\n"
   ]
  },
  {
   "cell_type": "markdown",
   "id": "0296b77b",
   "metadata": {},
   "source": [
    "## Полезные параметры"
   ]
  },
  {
   "cell_type": "markdown",
   "id": "ddbe05ae",
   "metadata": {},
   "source": [
    "Переименование столбцов в stats.csv"
   ]
  },
  {
   "cell_type": "code",
   "execution_count": 35,
   "id": "193240ab",
   "metadata": {},
   "outputs": [
    {
     "data": {
      "text/plain": [
       "143"
      ]
     },
     "execution_count": 35,
     "metadata": {},
     "output_type": "execute_result"
    }
   ],
   "source": [
    "nexus_ = pd.read_csv(\"./nexus.csv\")\n",
    "param_names = nexus_.columns.values.tolist()\n",
    "param_names = param_names[2:]\n",
    "\n",
    "\n",
    "stats_ = pd.read_csv(\"./stats.csv\")\n",
    "stats_['level-2'].value_counts(dropna=False)[0]"
   ]
  },
  {
   "cell_type": "markdown",
   "id": "0f9756af",
   "metadata": {},
   "source": [
    "Теперь сами списки"
   ]
  },
  {
   "cell_type": "code",
   "execution_count": 3,
   "id": "0029bcc3",
   "metadata": {},
   "outputs": [
    {
     "name": "stdout",
     "output_type": "stream",
     "text": [
      "78\n",
      "(71, 2, 5)\n"
     ]
    }
   ],
   "source": [
    "useful = list()\n",
    "useless0 = list()\n",
    "useless1 = list()\n",
    "\n",
    "for name in param_names:\n",
    "    unique_values = set(data[name].tolist())\n",
    "    if unique_values & set(\"01\") == set(\"01\"):\n",
    "        useful.append(name)\n",
    "    if unique_values & set(\"01\") == set(\"0\"):\n",
    "        useless0.append(name)\n",
    "    if unique_values & set(\"01\") == set(\"1\"):\n",
    "        useless1.append(name)\n",
    "\n",
    "print(len(param_names))\n",
    "print((len(useful), len(useless0), len(useless1)))\n"
   ]
  },
  {
   "cell_type": "code",
   "execution_count": 4,
   "id": "e34f5930",
   "metadata": {},
   "outputs": [
    {
     "name": "stdout",
     "output_type": "stream",
     "text": [
      "['20a', '20b']\n"
     ]
    }
   ],
   "source": [
    "print(useless0)"
   ]
  },
  {
   "cell_type": "code",
   "execution_count": 5,
   "id": "f7ff5357",
   "metadata": {},
   "outputs": [
    {
     "name": "stdout",
     "output_type": "stream",
     "text": [
      "['17b', '17c', '18a', '21b', '24a']\n"
     ]
    }
   ],
   "source": [
    "print(useless1)"
   ]
  },
  {
   "cell_type": "markdown",
   "id": "4af26e90",
   "metadata": {},
   "source": [
    "## Запись всех условных вероятностей в отдельный файл"
   ]
  },
  {
   "cell_type": "code",
   "execution_count": 9,
   "id": "73d875b8",
   "metadata": {},
   "outputs": [
    {
     "data": {
      "text/html": [
       "<div>\n",
       "<style scoped>\n",
       "    .dataframe tbody tr th:only-of-type {\n",
       "        vertical-align: middle;\n",
       "    }\n",
       "\n",
       "    .dataframe tbody tr th {\n",
       "        vertical-align: top;\n",
       "    }\n",
       "\n",
       "    .dataframe thead th {\n",
       "        text-align: right;\n",
       "    }\n",
       "</style>\n",
       "<table border=\"1\" class=\"dataframe\">\n",
       "  <thead>\n",
       "    <tr style=\"text-align: right;\">\n",
       "      <th></th>\n",
       "      <th>X</th>\n",
       "      <th>Y</th>\n",
       "      <th>Z</th>\n",
       "    </tr>\n",
       "  </thead>\n",
       "  <tbody>\n",
       "    <tr>\n",
       "      <th>0</th>\n",
       "      <td>10-0</td>\n",
       "      <td>11-0</td>\n",
       "      <td>0.822581</td>\n",
       "    </tr>\n",
       "    <tr>\n",
       "      <th>1</th>\n",
       "      <td>10-1</td>\n",
       "      <td>11-0</td>\n",
       "      <td>0.177419</td>\n",
       "    </tr>\n",
       "    <tr>\n",
       "      <th>2</th>\n",
       "      <td>10-0</td>\n",
       "      <td>11-1</td>\n",
       "      <td>0.000000</td>\n",
       "    </tr>\n",
       "    <tr>\n",
       "      <th>3</th>\n",
       "      <td>10-1</td>\n",
       "      <td>11-1</td>\n",
       "      <td>1.000000</td>\n",
       "    </tr>\n",
       "    <tr>\n",
       "      <th>4</th>\n",
       "      <td>10-0</td>\n",
       "      <td>12a-0</td>\n",
       "      <td>0.603175</td>\n",
       "    </tr>\n",
       "    <tr>\n",
       "      <th>...</th>\n",
       "      <td>...</td>\n",
       "      <td>...</td>\n",
       "      <td>...</td>\n",
       "    </tr>\n",
       "    <tr>\n",
       "      <th>19875</th>\n",
       "      <td>9-1</td>\n",
       "      <td>8d-1</td>\n",
       "      <td>0.229167</td>\n",
       "    </tr>\n",
       "    <tr>\n",
       "      <th>19876</th>\n",
       "      <td>9-0</td>\n",
       "      <td>8e-0</td>\n",
       "      <td>0.428571</td>\n",
       "    </tr>\n",
       "    <tr>\n",
       "      <th>19877</th>\n",
       "      <td>9-1</td>\n",
       "      <td>8e-0</td>\n",
       "      <td>0.142857</td>\n",
       "    </tr>\n",
       "    <tr>\n",
       "      <th>19878</th>\n",
       "      <td>9-0</td>\n",
       "      <td>8e-1</td>\n",
       "      <td>0.185185</td>\n",
       "    </tr>\n",
       "    <tr>\n",
       "      <th>19879</th>\n",
       "      <td>9-1</td>\n",
       "      <td>8e-1</td>\n",
       "      <td>0.203704</td>\n",
       "    </tr>\n",
       "  </tbody>\n",
       "</table>\n",
       "<p>19880 rows × 3 columns</p>\n",
       "</div>"
      ],
      "text/plain": [
       "          X      Y         Z\n",
       "0      10-0   11-0  0.822581\n",
       "1      10-1   11-0  0.177419\n",
       "2      10-0   11-1  0.000000\n",
       "3      10-1   11-1  1.000000\n",
       "4      10-0  12a-0  0.603175\n",
       "...     ...    ...       ...\n",
       "19875   9-1   8d-1  0.229167\n",
       "19876   9-0   8e-0  0.428571\n",
       "19877   9-1   8e-0  0.142857\n",
       "19878   9-0   8e-1  0.185185\n",
       "19879   9-1   8e-1  0.203704\n",
       "\n",
       "[19880 rows x 3 columns]"
      ]
     },
     "execution_count": 9,
     "metadata": {},
     "output_type": "execute_result"
    }
   ],
   "source": [
    "raw_list = list()\n",
    "\n",
    "for rand_var in useful:\n",
    "    for cond_var in useful:\n",
    "        if rand_var != cond_var:\n",
    "            a = compute_cond_prob(rand_var, cond_var, \"0\", \"0\", data)\n",
    "            b = compute_cond_prob(rand_var, cond_var, \"1\", \"0\", data)\n",
    "            c = compute_cond_prob(rand_var, cond_var, \"0\", \"1\", data)\n",
    "            d = compute_cond_prob(rand_var, cond_var, \"1\", \"1\", data)\n",
    "            raw_list.append([rand_var + \"-0\", cond_var + \"-0\", a])\n",
    "            raw_list.append([rand_var + \"-1\", cond_var + \"-0\", b])\n",
    "            raw_list.append([rand_var + \"-0\", cond_var + \"-1\", c])\n",
    "            raw_list.append([rand_var + \"-1\", cond_var + \"-1\", d])\n",
    "\n",
    "cond_probs = pd.DataFrame(raw_list, columns=['X','Y','Z'])\n",
    "cond_probs.pivot(index='X', columns='Y', values='Z')\n",
    "cond_probs\n"
   ]
  },
  {
   "cell_type": "code",
   "execution_count": 10,
   "id": "9a6452cf",
   "metadata": {},
   "outputs": [],
   "source": [
    "cond_probs = cond_probs.pivot(index='X', columns='Y', values='Z')\n"
   ]
  },
  {
   "cell_type": "code",
   "execution_count": 11,
   "id": "51cc86f8",
   "metadata": {},
   "outputs": [
    {
     "data": {
      "text/plain": [
       "X        object\n",
       "10-0    float64\n",
       "10-1    float64\n",
       "11-0    float64\n",
       "11-1    float64\n",
       "         ...   \n",
       "8d-1    float64\n",
       "8e-0    float64\n",
       "8e-1    float64\n",
       "9-0     float64\n",
       "9-1     float64\n",
       "Length: 143, dtype: object"
      ]
     },
     "execution_count": 11,
     "metadata": {},
     "output_type": "execute_result"
    }
   ],
   "source": [
    "comfortable_cond_probs= pd.read_csv(\"./Cond_Probs\")\n",
    "comfortable_cond_probs.dtypes"
   ]
  },
  {
   "cell_type": "code",
   "execution_count": null,
   "id": "2f92ef90",
   "metadata": {},
   "outputs": [],
   "source": []
  }
 ],
 "metadata": {
  "kernelspec": {
   "display_name": "Python 3 (ipykernel)",
   "language": "python",
   "name": "python3"
  },
  "language_info": {
   "codemirror_mode": {
    "name": "ipython",
    "version": 3
   },
   "file_extension": ".py",
   "mimetype": "text/x-python",
   "name": "python",
   "nbconvert_exporter": "python",
   "pygments_lexer": "ipython3",
   "version": "3.8.10"
  }
 },
 "nbformat": 4,
 "nbformat_minor": 5
}
